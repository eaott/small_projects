{
 "cells": [
  {
   "cell_type": "markdown",
   "metadata": {},
   "source": [
    "# Grade boxplots\n",
    "To help quickly compare results within sections, this script lets me quickly (interactively) gather all the grades from the class (from a CSV from Canvas), split grades into sections, notify me of missing grades (maybe a grader isn't finished yet), and make boxplots for each section.\n",
    "\n",
    "To preserve privacy, the grades are stored in a specific folder on my computer a) separate from this git repository and b) that is regularly erased with `rm -Prf` as to not persist student data on my computer.\n",
    "\n",
    "To further that end, this notebook is saved without boxplots embedded, as this would reveal some element of student data. Although aggregated, it seems inappropriate.\n",
    "\n",
    "However, the `get_grades` function is generally useful for reading from CSVs where we want to compare groups (in this case, in column `sectionCol=4`) by looking at the data in column `myCol` which can be set interactively. Other parameters are specific to my setting and could easily be adapted to a variety of gradebook formats."
   ]
  },
  {
   "cell_type": "code",
   "execution_count": null,
   "metadata": {},
   "outputs": [],
   "source": [
    "import numpy as np\n",
    "import matplotlib.pyplot as plt\n",
    "import csv"
   ]
  },
  {
   "cell_type": "code",
   "execution_count": null,
   "metadata": {},
   "outputs": [],
   "source": [
    "def get_grades(myCol=-1, groups=['SDS302(55875)', 'SDS302(55880)', 'SDS302(55885)'], sectionCol = 4,\n",
    "               hwStartCol = 5, nHomework=10, skipRows=[1, 2], sectionHeader=\"Section\"):\n",
    "    '''\n",
    "    Return the grades in a dictionary of group to numpy array, along with the assignment name from the header row (row 0).\n",
    "    \n",
    "    Params:\n",
    "        myCol: column for the grades, -1 for interactive mode\n",
    "        groups: list of groups to compare (helps to refine the list of possible groups)\n",
    "        sectionCol: column in the CSV with the group names\n",
    "        hwStartCol: specific to my class, the homework is the first column of assignments (after student data) and\n",
    "            all clustered together in order, so interactive mode for homework is straightforward\n",
    "        nHomework: how many homework assignments, again for interactive mode to skip ahead to other assignments\n",
    "        skipRows: list of row indices to not include (in my setting, a metadata row and a points possible row)\n",
    "        sectionHeader: a checksum to ensure the header of the group column (in column sectionCol) matches what is expected,\n",
    "            in case the CSV is generated in an unexpected order\n",
    "    '''\n",
    "    with open('/Users/Evan/Downloads/temp/grades.csv', 'r') as csvfile:\n",
    "        reader = csv.reader(csvfile)\n",
    "        grades = {group: [] for group in groups}\n",
    "        missing = {group: 0 for group in groups}\n",
    "\n",
    "        name = \"\"\n",
    "        for (rowIdx, row) in enumerate(reader):\n",
    "            if rowIdx in skipRows:\n",
    "                continue\n",
    "            if rowIdx == 0 and row[sectionCol] != sectionHeader:\n",
    "                print(\"Section has moved\")\n",
    "                break\n",
    "            if rowIdx == 0 and myCol >= 0:\n",
    "                name = row[myCol]\n",
    "                continue\n",
    "            if rowIdx == 0 and myCol < 0:\n",
    "                choice = raw_input(\"homework? \")\n",
    "                if choice == \"y\":\n",
    "                    hw = raw_input(\"number? \")\n",
    "                    myCol = hwStartCol + int(hw) - 1\n",
    "                    name = row[myCol]\n",
    "                    continue\n",
    "                for (idx, assignment) in enumerate(row[hwStartCol + nHomework:]):\n",
    "                    print(idx, assignment)\n",
    "                choice = raw_input(\"one of these? \")\n",
    "                try:\n",
    "                    myCol = hwStartCol + nHomework + int(choice)\n",
    "                    name = row[myCol]\n",
    "                    continue\n",
    "                except:\n",
    "                    pass\n",
    "                if myCol == -1:\n",
    "                    print(\"no assignment chosen\")\n",
    "                    break\n",
    "            for section in grades:\n",
    "                if row[sectionCol] == section:\n",
    "                    try:\n",
    "                        grades[section].append(float(row[myCol]))\n",
    "                    except:\n",
    "                        missing[section] += 1\n",
    "        del reader\n",
    "        for section in missing:\n",
    "            if missing[section] > 0:\n",
    "                print(\"Missing %d assignment(s) from %s\" % (missing[section], section))\n",
    "            grades[section] = np.array(grades[section])\n",
    "    return (grades, name)"
   ]
  },
  {
   "cell_type": "markdown",
   "metadata": {},
   "source": [
    "## Interactive"
   ]
  },
  {
   "cell_type": "code",
   "execution_count": null,
   "metadata": {},
   "outputs": [],
   "source": [
    "grades, assignment = get_grades()\n",
    "labels = [section for section in grades]\n",
    "labels.sort()\n",
    "boxgrades = [grades[section] for section in labels]\n",
    "plt.boxplot(boxgrades, labels=labels)\n",
    "m = max(max(np.max(grades[labels[0]]), np.max(grades[labels[1]])), np.max(grades[labels[2]]))\n",
    "plt.ylim((-1, m * 1.1))\n",
    "plt.title(assignment)\n",
    "plt.show()"
   ]
  },
  {
   "cell_type": "markdown",
   "metadata": {},
   "source": [
    "## Specific index"
   ]
  },
  {
   "cell_type": "code",
   "execution_count": null,
   "metadata": {},
   "outputs": [],
   "source": [
    "grades, assignment = get_grades(5)\n",
    "labels = [section for section in grades]\n",
    "labels.sort()\n",
    "boxgrades = [grades[section] for section in labels]\n",
    "plt.boxplot(boxgrades, labels=labels)\n",
    "m = max(max(np.max(grades[labels[0]]), np.max(grades[labels[1]])), np.max(grades[labels[2]]))\n",
    "plt.ylim((-1, m * 1.1))\n",
    "plt.title(assignment)\n",
    "plt.show()"
   ]
  },
  {
   "cell_type": "code",
   "execution_count": null,
   "metadata": {},
   "outputs": [],
   "source": []
  }
 ],
 "metadata": {
  "kernelspec": {
   "display_name": "Python 2",
   "language": "python",
   "name": "python2"
  },
  "language_info": {
   "codemirror_mode": {
    "name": "ipython",
    "version": 2
   },
   "file_extension": ".py",
   "mimetype": "text/x-python",
   "name": "python",
   "nbconvert_exporter": "python",
   "pygments_lexer": "ipython2",
   "version": "2.7.10"
  }
 },
 "nbformat": 4,
 "nbformat_minor": 2
}
